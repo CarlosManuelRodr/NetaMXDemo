{
 "cells": [
  {
   "cell_type": "markdown",
   "id": "63d6412e",
   "metadata": {},
   "source": [
    "# Fetch local data"
   ]
  },
  {
   "cell_type": "code",
   "execution_count": 1,
   "id": "1118c23f",
   "metadata": {},
   "outputs": [],
   "source": [
    "import pandas as pd"
   ]
  },
  {
   "cell_type": "code",
   "execution_count": 12,
   "id": "4eeed4bb",
   "metadata": {},
   "outputs": [],
   "source": [
    "dataset = pd.read_csv('car_indexed.csv')"
   ]
  },
  {
   "cell_type": "code",
   "execution_count": 23,
   "id": "47ba721e",
   "metadata": {},
   "outputs": [
    {
     "data": {
      "text/plain": [
       "1728"
      ]
     },
     "execution_count": 23,
     "metadata": {},
     "output_type": "execute_result"
    }
   ],
   "source": [
    "len(dataset)"
   ]
  },
  {
   "cell_type": "code",
   "execution_count": 14,
   "id": "d3513232",
   "metadata": {},
   "outputs": [
    {
     "data": {
      "text/plain": [
       "{'index': 0,\n",
       " 'buying': 'vhigh',\n",
       " 'maint': 'vhigh',\n",
       " 'doors': 'two',\n",
       " 'persons': 'two',\n",
       " 'lug_boot': 'small',\n",
       " 'safety': 'low',\n",
       " 'class': 'unacc'}"
      ]
     },
     "execution_count": 14,
     "metadata": {},
     "output_type": "execute_result"
    }
   ],
   "source": [
    "dataset.iloc[0].to_dict()"
   ]
  },
  {
   "cell_type": "markdown",
   "id": "0bbe0c66",
   "metadata": {},
   "source": [
    "# DynamoDB table creation"
   ]
  },
  {
   "cell_type": "code",
   "execution_count": 11,
   "id": "a706813c",
   "metadata": {},
   "outputs": [],
   "source": [
    "import boto3\n",
    "dynamodb = boto3.resource('dynamodb')"
   ]
  },
  {
   "cell_type": "code",
   "execution_count": 18,
   "id": "132a1ff6",
   "metadata": {},
   "outputs": [],
   "source": [
    "table = dynamodb.create_table(\n",
    "    TableName='car_table',\n",
    "    KeySchema=\n",
    "    [\n",
    "        {\n",
    "            'AttributeName': 'index',\n",
    "            'KeyType': 'HASH'\n",
    "        }\n",
    "    ],\n",
    "    AttributeDefinitions=\n",
    "    [\n",
    "        {\n",
    "            'AttributeName': 'index',\n",
    "            'AttributeType': 'N'\n",
    "        }\n",
    "    ],\n",
    "    ProvisionedThroughput=\n",
    "    {\n",
    "        'ReadCapacityUnits': 1,\n",
    "        'WriteCapacityUnits': 1\n",
    "    }\n",
    ")"
   ]
  },
  {
   "cell_type": "code",
   "execution_count": 20,
   "id": "116b4531",
   "metadata": {},
   "outputs": [],
   "source": [
    "table.wait_until_exists()"
   ]
  },
  {
   "cell_type": "code",
   "execution_count": 25,
   "id": "ccb8afc8",
   "metadata": {},
   "outputs": [],
   "source": [
    "with table.batch_writer() as batch:\n",
    "    for i in range(len(dataset)):\n",
    "        batch.put_item(\n",
    "            Item=dataset.iloc[i].to_dict()\n",
    "        )"
   ]
  },
  {
   "cell_type": "markdown",
   "id": "cd5f3a59",
   "metadata": {},
   "source": [
    "# Fetch test"
   ]
  },
  {
   "cell_type": "code",
   "execution_count": 32,
   "id": "e8a9e698",
   "metadata": {},
   "outputs": [],
   "source": [
    "response = table.get_item(\n",
    "    Key={\n",
    "        'index': 50\n",
    "    }\n",
    ")"
   ]
  },
  {
   "cell_type": "code",
   "execution_count": 33,
   "id": "cd5ebdd5",
   "metadata": {},
   "outputs": [
    {
     "name": "stdout",
     "output_type": "stream",
     "text": [
      "{'index': Decimal('50'), 'buying': 'vhigh', 'maint': 'vhigh', 'safety': 'high', 'lug_boot': 'med', 'persons': 'more', 'class': 'unacc', 'doors': 'three'}\n"
     ]
    }
   ],
   "source": [
    "item = response['Item']\n",
    "print(item)"
   ]
  },
  {
   "cell_type": "code",
   "execution_count": null,
   "id": "fecc1476",
   "metadata": {},
   "outputs": [],
   "source": []
  }
 ],
 "metadata": {
  "kernelspec": {
   "display_name": "Python 3 (ipykernel)",
   "language": "python",
   "name": "python3"
  },
  "language_info": {
   "codemirror_mode": {
    "name": "ipython",
    "version": 3
   },
   "file_extension": ".py",
   "mimetype": "text/x-python",
   "name": "python",
   "nbconvert_exporter": "python",
   "pygments_lexer": "ipython3",
   "version": "3.10.2"
  }
 },
 "nbformat": 4,
 "nbformat_minor": 5
}
